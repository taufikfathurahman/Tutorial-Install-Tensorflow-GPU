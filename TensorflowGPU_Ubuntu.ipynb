{
 "cells": [
  {
   "cell_type": "markdown",
   "metadata": {},
   "source": [
    "# Install Tensorflow GPU"
   ]
  },
  {
   "cell_type": "markdown",
   "metadata": {},
   "source": [
    "### Requirements\n",
    "Sebelum melakukan instalasi Tensorflow GPU pada ubuntu, ada beberapa hal yang harus dipersiapakan terlebih dahulu, diantaranya:\n",
    "\n",
    "**Harware Requirements**\n",
    "* NVIDIA® GPU card with CUDA® Compute Capability 3.5 or higher. Dapat dilihat pada list berikut: <a href=\"https://developer.nvidia.com/cuda-gpus\">CUDA-enabled GPU cards</a>\n",
    "\n",
    "**Software Requirements**\n",
    "* NVIDIA GPU drivers\n",
    "* CUDA Toolkit\n",
    "* cuDNN SDK\n",
    "* TensorRT (Optional untuk meningkatkan latency dan throughtput untuk inferensi pada beberapa model)"
   ]
  },
  {
   "cell_type": "markdown",
   "metadata": {},
   "source": [
    "### Step 1: Update GPU Driver\n",
    "Buka terminal lalu run commands berikut ini:\n",
    "```\n",
    "sudo add-apt-repository ppa:graphics-drivers/ppa\n",
    "sudo apt update\n",
    "sudo apt install nvidia-390\n",
    "```\n",
    "Delama melakukan install package nvidia, tidak harus melakukan install untuk 390, dapat juga untuk versi 410, 418, dan yang lainnya.\n",
    "\n",
    "Setelah proses install driver selesai, reboot komputer. Setelah kembali lagi, lebih baik kita memastikan driver nvidia sudah ter-install dengan benar dengan command:\n",
    "```\n",
    "nvidia-smi\n",
    "```\n",
    "Output yang diharapkan adalah:\n",
    "<img src='https://user-images.githubusercontent.com/38347258/55110463-a8801580-510a-11e9-8e1f-36e1946facef.png' width='500px'>"
   ]
  },
  {
   "cell_type": "markdown",
   "metadata": {},
   "source": [
    "### Step 2: Install Cuda Toolkit\n",
    "\n",
    "1. Download cuda toolkit for linux, <a href=\"https://developer.nvidia.com/cuda-90-download-archive\">https://developer.nvidia.com/cuda-90-download-archive</a>. Pada tutorial ini saya menggunakan cuda toolkit 9.0.\n",
    "2. Stelah proses download selesai, buka terminal dan lakukan beberapa commands berikut ini:\n",
    "```\n",
    "sudo dpkg -i cuda-repo-ubuntu1704-9-0-local_9.0.176-1_amd64.deb\n",
    "sudo apt-key add /var/cuda-repo-9-0-local/7fa2af80.pub\n",
    "sudo apt-get update\n",
    "sudo apt-get install cuda\n",
    "```\n",
    "\n",
    "3. Download semua patch yang ada pada link di point 1. Ketika proses telah selesai, selanjutnya adalah lalu install dengan cara klik kanan lalu klik software installer (Lakukan untuk semua patch satu persatu).\n",
    "4. Buka `.bashrc` file.\n",
    "```\n",
    "sudo nano ~/.bashrc\n",
    "```\n",
    "Lalu isikan PATH variables berikut ini:\n",
    "```\n",
    "export PATH=/usr/local/cuda-9.0/bin${PATH:+:$PATH}}\n",
    "export LD_LIBRARY_PATH=/usr/local/cuda-9.0/lib64${LD_LIBRARY_PATH:+:${LD_LIBRARY_PATH}}\n",
    "```"
   ]
  },
  {
   "cell_type": "markdown",
   "metadata": {},
   "source": [
    "### Step 3: Install CUDNN\n",
    "\n",
    "1. Download pada link ini : <a href=\"https://developer.nvidia.com/cudnn\">https://developer.nvidia.com/cudnn</a>.\n",
    "    * Pilih CUDNN 7.0.5 for CUDA 9.0\n",
    "    * Download CUDNN v7.0.5 Library for Linux (tar file)\n",
    "2. Buka terminal, lalu pindah ke direktori tempat menyimpan hasil download tadi.\n",
    "3. Unzip file tar :\n",
    "```\n",
    "tar -xzvf cudnn-9.0-linux-x64-v7.tgz\n",
    "```\n",
    "4. Pindahkan file kedalam CUDA file dengan commands berikut:\n",
    "```\n",
    "sudo cp cuda/include/cudnn.h /usr/local/cuda/include\n",
    "sudo cp cuda/lib64/libcudnn* /usr/local/cuda/lib64\n",
    "sudo chmod a+r /usr/local/cuda/include/cudnn.h /usr/local/cuda/lib64/libcudnn*\n",
    "```"
   ]
  },
  {
   "cell_type": "markdown",
   "metadata": {},
   "source": [
    "### Step 4: Install Tensorflow-gpu\n",
    "\n",
    "1. Buat environment:\n",
    "    * Buat conda environment\n",
    "    ```\n",
    "    conda create -n tf python=3.6 pip\n",
    "    ```\n",
    "    * Aktifkan environment:\n",
    "    ```\n",
    "    source activate tf\n",
    "    ```\n",
    "2. Install tensorflow-gpu\n",
    "```\n",
    "pip install tensorflow-gpu==1.5\n",
    "```\n",
    "3. Sebagain tambahan jika ingin menggunakan keras\n",
    "```\n",
    "pip install keras\n",
    "```"
   ]
  },
  {
   "cell_type": "markdown",
   "metadata": {},
   "source": [
    "### Step 5: Pengujian Hasil Install\n",
    "\n",
    "Saya menggunakan source coda yang didapat dari halaman <a href=\"https://www.tensorflow.org/\">tensorflow.org</a>."
   ]
  },
  {
   "cell_type": "code",
   "execution_count": 1,
   "metadata": {},
   "outputs": [],
   "source": [
    "from __future__ import absolute_import, division, print_function\n",
    "import tensorflow as tf"
   ]
  },
  {
   "cell_type": "code",
   "execution_count": 2,
   "metadata": {},
   "outputs": [],
   "source": [
    "mnist = tf.keras.datasets.mnist\n",
    "\n",
    "(x_train, y_train), (x_test, y_test) = mnist.load_data()\n",
    "x_train, x_test = x_train / 255.0, x_test / 255.0"
   ]
  },
  {
   "cell_type": "code",
   "execution_count": 3,
   "metadata": {},
   "outputs": [
    {
     "name": "stdout",
     "output_type": "stream",
     "text": [
      "WARNING:tensorflow:From /home/babyanaconda/anaconda3/envs/tf/lib/python3.6/site-packages/tensorflow/python/keras/_impl/keras/backend.py:1557: calling reduce_mean (from tensorflow.python.ops.math_ops) with keep_dims is deprecated and will be removed in a future version.\n",
      "Instructions for updating:\n",
      "keep_dims is deprecated, use keepdims instead\n",
      "WARNING:tensorflow:From /home/babyanaconda/anaconda3/envs/tf/lib/python3.6/site-packages/tensorflow/python/keras/_impl/keras/backend.py:1422: calling reduce_max (from tensorflow.python.ops.math_ops) with keep_dims is deprecated and will be removed in a future version.\n",
      "Instructions for updating:\n",
      "keep_dims is deprecated, use keepdims instead\n"
     ]
    }
   ],
   "source": [
    "model = tf.keras.models.Sequential([\n",
    "  tf.keras.layers.Flatten(input_shape=(28, 28)),\n",
    "  tf.keras.layers.Dense(512, activation=tf.nn.relu),\n",
    "  tf.keras.layers.Dropout(0.2),\n",
    "  tf.keras.layers.Dense(10, activation=tf.nn.softmax)\n",
    "])\n",
    "\n",
    "model.compile(optimizer='adam',\n",
    "              loss='sparse_categorical_crossentropy',\n",
    "              metrics=['accuracy'])"
   ]
  },
  {
   "cell_type": "code",
   "execution_count": 4,
   "metadata": {},
   "outputs": [
    {
     "name": "stdout",
     "output_type": "stream",
     "text": [
      "Epoch 1/5\n",
      "60000/60000 [==============================]60000/60000 [==============================] - 9s 142us/step - loss: 0.2193 - acc: 0.9355\n",
      "\n",
      "Epoch 2/5\n",
      "60000/60000 [==============================]60000/60000 [==============================] - 8s 132us/step - loss: 0.0973 - acc: 0.9706\n",
      "\n",
      "Epoch 3/5\n",
      "60000/60000 [==============================]60000/60000 [==============================] - 8s 131us/step - loss: 0.0693 - acc: 0.9780\n",
      "\n",
      "Epoch 4/5\n",
      "60000/60000 [==============================]60000/60000 [==============================] - 9s 144us/step - loss: 0.0535 - acc: 0.9829\n",
      "\n",
      "Epoch 5/5\n",
      "60000/60000 [==============================]60000/60000 [==============================] - 11s 177us/step - loss: 0.0421 - acc: 0.9860\n",
      "\n",
      "10000/10000 [==============================]10000/10000 [==============================] - 0s 47us/step\n",
      "\n"
     ]
    },
    {
     "data": {
      "text/plain": [
       "[0.06428604598657112, 0.9789]"
      ]
     },
     "execution_count": 4,
     "metadata": {},
     "output_type": "execute_result"
    }
   ],
   "source": [
    "model.fit(x_train, y_train, epochs=5)\n",
    "\n",
    "model.evaluate(x_test, y_test)"
   ]
  },
  {
   "cell_type": "code",
   "execution_count": null,
   "metadata": {},
   "outputs": [],
   "source": []
  }
 ],
 "metadata": {
  "kernelspec": {
   "display_name": "Python 3",
   "language": "python",
   "name": "python3"
  },
  "language_info": {
   "codemirror_mode": {
    "name": "ipython",
    "version": 3
   },
   "file_extension": ".py",
   "mimetype": "text/x-python",
   "name": "python",
   "nbconvert_exporter": "python",
   "pygments_lexer": "ipython3",
   "version": "3.6.8"
  }
 },
 "nbformat": 4,
 "nbformat_minor": 2
}
