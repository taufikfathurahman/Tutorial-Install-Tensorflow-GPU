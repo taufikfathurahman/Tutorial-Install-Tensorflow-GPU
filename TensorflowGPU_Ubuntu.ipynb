{
 "cells": [
  {
   "cell_type": "markdown",
   "metadata": {},
   "source": [
    "# Install Tensorflow GPU"
   ]
  },
  {
   "cell_type": "markdown",
   "metadata": {},
   "source": [
    "### Requirements\n",
    "Sebelum melakukan instalasi Tensorflow GPU pada ubuntu, ada beberapa hal yang harus dipersiapakan terlebih dahulu, diantaranya:\n",
    "\n",
    "**Harware Requirements**\n",
    "* NVIDIA® GPU card with CUDA® Compute Capability 3.5 or higher. Dapat dilihat pada list berikut: <a href=\"https://developer.nvidia.com/cuda-gpus\">CUDA-enabled GPU cards</a>\n",
    "\n",
    "**Software Requirements**\n",
    "* NVIDIA GPU drivers\n",
    "* CUDA Toolkit\n",
    "* cuDNN SDK\n",
    "* TensorRT (Optional untuk meningkatkan latency dan throughtput untuk inferensi pada beberapa model)"
   ]
  },
  {
   "cell_type": "markdown",
   "metadata": {},
   "source": [
    "### Step 1: Update GPU Driver\n",
    "Buka terminal lalu run commands berikut ini:\n",
    "```\n",
    "sudo add-apt-repository ppa:graphics-drivers/ppa\n",
    "sudo apt update\n",
    "sudo apt install nvidia-390\n",
    "```\n",
    "Delama melakukan install package nvidia, tidak harus melakukan install untuk 390, dapat juga untuk versi 410, 418, dan yang lainnya.\n",
    "\n",
    "Setelah proses install driver selesai, reboot komputer. Setelah kembali lagi, lebih baik kita memastikan driver nvidia sudah ter-install dengan benar dengan command:\n",
    "```\n",
    "nvidia-smi\n",
    "```\n",
    "Output yang diharapkan adalah:\n",
    "<img src='https://user-images.githubusercontent.com/38347258/55110463-a8801580-510a-11e9-8e1f-36e1946facef.png' width='500px'>"
   ]
  },
  {
   "cell_type": "markdown",
   "metadata": {},
   "source": [
    "### Step 2: Install Cuda Toolkit\n",
    "\n",
    "cooming soon.........."
   ]
  },
  {
   "cell_type": "code",
   "execution_count": null,
   "metadata": {},
   "outputs": [],
   "source": []
  }
 ],
 "metadata": {
  "kernelspec": {
   "display_name": "Python 3",
   "language": "python",
   "name": "python3"
  },
  "language_info": {
   "codemirror_mode": {
    "name": "ipython",
    "version": 3
   },
   "file_extension": ".py",
   "mimetype": "text/x-python",
   "name": "python",
   "nbconvert_exporter": "python",
   "pygments_lexer": "ipython3",
   "version": "3.7.1"
  }
 },
 "nbformat": 4,
 "nbformat_minor": 2
}
